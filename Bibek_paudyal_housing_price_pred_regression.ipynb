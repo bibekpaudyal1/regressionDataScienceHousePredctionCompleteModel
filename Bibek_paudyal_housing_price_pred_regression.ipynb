{
  "nbformat": 4,
  "nbformat_minor": 0,
  "metadata": {
    "colab": {
      "provenance": [],
      "gpuType": "T4",
      "authorship_tag": "ABX9TyOYhhbc25Q5mcy/7l56YRxh",
      "include_colab_link": true
    },
    "kernelspec": {
      "name": "python3",
      "display_name": "Python 3"
    },
    "language_info": {
      "name": "python"
    },
    "accelerator": "GPU"
  },
  "cells": [
    {
      "cell_type": "markdown",
      "metadata": {
        "id": "view-in-github",
        "colab_type": "text"
      },
      "source": [
        "<a href=\"https://colab.research.google.com/github/bibekpaudyal1/regressionDataScienceHousePredctionCompleteModel/blob/models/Bibek_paudyal_housing_price_pred_regression.ipynb\" target=\"_parent\"><img src=\"https://colab.research.google.com/assets/colab-badge.svg\" alt=\"Open In Colab\"/></a>"
      ]
    },
    {
      "cell_type": "code",
      "execution_count": 2,
      "metadata": {
        "colab": {
          "base_uri": "https://localhost:8080/"
        },
        "id": "EGKuQcGDchNo",
        "outputId": "f30e5bcf-c091-4e9b-ebe0-82b1d179919d"
      },
      "outputs": [
        {
          "output_type": "stream",
          "name": "stdout",
          "text": [
            "Mounted at /content/drive\n"
          ]
        }
      ],
      "source": [
        "#mounting the google drive to import the dataset\n",
        "from google.colab import drive\n",
        "drive.mount('/content/drive')"
      ]
    },
    {
      "cell_type": "code",
      "source": [
        "#checking the contents of the google drive to see the files\n",
        "import os\n",
        "directory_path = '/content/drive/MyDrive/'\n",
        "contents = os.listdir(directory_path)\n",
        "print(contents)"
      ],
      "metadata": {
        "colab": {
          "base_uri": "https://localhost:8080/"
        },
        "id": "htolFboqf3f3",
        "outputId": "55046ccb-f789-440c-b9a8-02c6c969fa87"
      },
      "execution_count": 3,
      "outputs": [
        {
          "output_type": "stream",
          "name": "stdout",
          "text": [
            "['How to get started with Drive.pdf', 'Beat my score: 0 in #JumpyTile \\n\\n http:  play.google.com store apps details?id=com.paxplay.jumpytile t my score:.txt', 'ab.jpg', 'IdeaBreed Website Issues :.gdoc', '45654847_2314904868743610_2772296966028132352_n.jpg', '45685695_463749644149235_4320848141860470784_n.jpg', '45685759_316994612451731_3565131406130544640_n.jpg', '45696401_2018573308165368_2429529829591220224_n.jpg', '45707322_2049762845045984_8733605195126145024_n.jpg', '45710319_306267663543366_5204752561701126144_n.jpg', '45726670_2187608371513577_3053941967609135104_n.jpg', '45775906_277556482895060_4943889755814232064_n.jpg', '45808162_497782837401081_7027150732067340288_n.jpg', '45808205_725047987860383_1213369527165779968_n.jpg', '45829469_182114292695791_3960746418632654848_n.jpg', '45861049_2432408686775029_1092437567531384832_n.jpg', '45915510_2178323715717239_8509815503261270016_n.jpg', '46028792_2015123461908761_7089323201175486464_n.jpg', 'ASVI.jpg', 'Birendra-Tal-Below-Manaslu.jpg', 'Dudh sangh Testing.gdoc', 'Feature testing between the mobile and the Web.gdoc', '[Ismaran Duwadi]19031538 Roshan Adhikari.docx', 'employeeDetails.csv', 'FYP FINAL YEAR.rar', 'Extreme Prototyping.gdoc', 'Bibek Paudyal resume.pdf', 'Bibek PaudyalTranscript.pdf', 'Bibek Paudyal resume.gdoc', 'Bibek Paudyal-CV.pdf', 'attendance.xlsx', 'Bibek Paudyal - Tasks.gsheet', 'ChakrapathParikarma.gsheet', 'BusRouteData.xlsx', 'Appendix-2022SSS_Application+Form.xlsx', 'Bibek Paudyal-CV.gdoc', 'Bibek Paudyal-CoverLetter.pdf', 'Bibek Paudyal-CoverLetter.gdoc', 'Bibek Paudyal(UpdateCV).pdf', '19030813 Bibek Paudyal.rar', 'intern certificate.docx', 'Explanations on involvement in multiple orginasations.docx', 'salary Sheet.gsheet', 'Bibek Paudyal Photo.jpg', 'online banking ID.pdf', 'Advanced Algorithms -.gdoc', 'Embedded systems.gdoc', 'Untitled document (3).gdoc', 'sensorData.drawio', 'IOT-web application.zip', 'Untitled document (2).gdoc', 'Untitled Diagram.drawio', 'Presentation project.pptx', 'M1-IOT-CRYPTO-WEB.zip', 'Colab Notebooks', 'Untitled.drawio', 'iot proejct.drawio', 'Untitled document (1).gdoc', 'Untitled document.gdoc', 'real_state.xlsx']\n"
          ]
        }
      ]
    },
    {
      "cell_type": "code",
      "source": [],
      "metadata": {
        "id": "IRZ2PlffgQsu"
      },
      "execution_count": 3,
      "outputs": []
    },
    {
      "cell_type": "code",
      "source": [
        "#importing the excel files\n",
        "\n",
        "import pandas as pd\n",
        "import numpy as np\n",
        "\n",
        "file_path = '/content/drive/MyDrive/real_state.xlsx'\n",
        "\n",
        "real_state_data = pd.read_excel(file_path)\n",
        "print(real_state_data.columns)\n",
        "\n",
        "\n"
      ],
      "metadata": {
        "colab": {
          "base_uri": "https://localhost:8080/"
        },
        "id": "ojM-q4f9eY8w",
        "outputId": "ff796849-bbd0-49aa-df78-ec1970a87d60"
      },
      "execution_count": 4,
      "outputs": [
        {
          "output_type": "stream",
          "name": "stdout",
          "text": [
            "Index(['No', 'X1 transaction date', 'X2 house age',\n",
            "       'X3 distance to the nearest MRT station',\n",
            "       'X4 number of convenience stores', 'X5 latitude', 'X6 longitude',\n",
            "       'Y house price of unit area'],\n",
            "      dtype='object')\n"
          ]
        }
      ]
    },
    {
      "cell_type": "code",
      "source": [
        "real_state_data.info()\n",
        "print(\"---------------\")\n",
        "real_state_data.describe()\n",
        "print(\"------------------\")\n",
        "print(real_state_data.nunique())"
      ],
      "metadata": {
        "colab": {
          "base_uri": "https://localhost:8080/"
        },
        "id": "pZMqfbOVhlSg",
        "outputId": "96ec3c5b-3e7d-4780-c807-26b38f1b8f17"
      },
      "execution_count": 5,
      "outputs": [
        {
          "output_type": "stream",
          "name": "stdout",
          "text": [
            "<class 'pandas.core.frame.DataFrame'>\n",
            "RangeIndex: 414 entries, 0 to 413\n",
            "Data columns (total 8 columns):\n",
            " #   Column                                  Non-Null Count  Dtype  \n",
            "---  ------                                  --------------  -----  \n",
            " 0   No                                      414 non-null    int64  \n",
            " 1   X1 transaction date                     414 non-null    float64\n",
            " 2   X2 house age                            414 non-null    float64\n",
            " 3   X3 distance to the nearest MRT station  414 non-null    float64\n",
            " 4   X4 number of convenience stores         414 non-null    int64  \n",
            " 5   X5 latitude                             414 non-null    float64\n",
            " 6   X6 longitude                            414 non-null    float64\n",
            " 7   Y house price of unit area              414 non-null    float64\n",
            "dtypes: float64(6), int64(2)\n",
            "memory usage: 26.0 KB\n",
            "---------------\n",
            "------------------\n",
            "No                                        414\n",
            "X1 transaction date                        12\n",
            "X2 house age                              236\n",
            "X3 distance to the nearest MRT station    259\n",
            "X4 number of convenience stores            11\n",
            "X5 latitude                               234\n",
            "X6 longitude                              232\n",
            "Y house price of unit area                270\n",
            "dtype: int64\n"
          ]
        }
      ]
    },
    {
      "cell_type": "code",
      "source": [
        "#From the dataset it has already specified that there are no null values but still we will check them\n",
        "\n",
        "for k in sorted(real_state_data.columns):\n",
        "  if real_state_data[k].isna().sum()>0:\n",
        "    print(k,real_state_data[k].isna().sum())\n",
        "  else:\n",
        "    print(\"There are no missing values in the datasets columns\")"
      ],
      "metadata": {
        "colab": {
          "base_uri": "https://localhost:8080/"
        },
        "id": "R6Fpkt-1jihX",
        "outputId": "06a5482b-1b2b-4d6b-b4e7-f2a7e3a14c22"
      },
      "execution_count": 6,
      "outputs": [
        {
          "output_type": "stream",
          "name": "stdout",
          "text": [
            "There are no missing values in the datasets columns\n",
            "There are no missing values in the datasets columns\n",
            "There are no missing values in the datasets columns\n",
            "There are no missing values in the datasets columns\n",
            "There are no missing values in the datasets columns\n",
            "There are no missing values in the datasets columns\n",
            "There are no missing values in the datasets columns\n",
            "There are no missing values in the datasets columns\n"
          ]
        }
      ]
    },
    {
      "cell_type": "code",
      "source": [
        "#since there are no ny missing values in the dataset we don't need to fill the missing values\n",
        "#checking for the constant columns in the data\n",
        "\n",
        "(real_state_data.nunique()==1).sum()"
      ],
      "metadata": {
        "colab": {
          "base_uri": "https://localhost:8080/"
        },
        "id": "zYT8exKukPfU",
        "outputId": "3380f74f-5876-4e9b-8871-eebd5856d219"
      },
      "execution_count": 7,
      "outputs": [
        {
          "output_type": "execute_result",
          "data": {
            "text/plain": [
              "0"
            ]
          },
          "metadata": {},
          "execution_count": 7
        }
      ]
    },
    {
      "cell_type": "code",
      "source": [
        "#we don't have any constant columns so we don't need to remove that if there were dublicate columns\n",
        "real_state_data = real_state_data.loc[:,(real_state_data !=real_state_data.iloc[0]).any()]"
      ],
      "metadata": {
        "id": "XVQev2Vrq82l"
      },
      "execution_count": 8,
      "outputs": []
    },
    {
      "cell_type": "code",
      "source": [
        "#checking if there are any dublicated indexes or not\n",
        "real_state_data.duplicated().sum()\n",
        "print(real_state_data.dtypes)"
      ],
      "metadata": {
        "colab": {
          "base_uri": "https://localhost:8080/"
        },
        "id": "B77K7-oqsByO",
        "outputId": "a6497b5f-31c4-42e8-d4c0-e4115fac1ef5"
      },
      "execution_count": 9,
      "outputs": [
        {
          "output_type": "stream",
          "name": "stdout",
          "text": [
            "No                                          int64\n",
            "X1 transaction date                       float64\n",
            "X2 house age                              float64\n",
            "X3 distance to the nearest MRT station    float64\n",
            "X4 number of convenience stores             int64\n",
            "X5 latitude                               float64\n",
            "X6 longitude                              float64\n",
            "Y house price of unit area                float64\n",
            "dtype: object\n"
          ]
        }
      ]
    },
    {
      "cell_type": "code",
      "source": [
        "#Now the process involves the pre-processing of the data\n",
        "\n",
        "#applying the standardScaler for the numberic data in columns\n",
        "from sklearn.preprocessing import StandardScaler\n",
        "scaler = StandardScaler()\n",
        "num_cols = real_state_data.select_dtypes(include='number').columns\n",
        "print(num_cols)\n",
        "real_state_data[num_cols] = scaler.fit_transform(real_state_data[num_cols])"
      ],
      "metadata": {
        "colab": {
          "base_uri": "https://localhost:8080/"
        },
        "id": "qzB2x3KRsVD0",
        "outputId": "aadeec64-5c96-4c99-8896-cc4b59c50576"
      },
      "execution_count": 10,
      "outputs": [
        {
          "output_type": "stream",
          "name": "stdout",
          "text": [
            "Index(['No', 'X1 transaction date', 'X2 house age',\n",
            "       'X3 distance to the nearest MRT station',\n",
            "       'X4 number of convenience stores', 'X5 latitude', 'X6 longitude',\n",
            "       'Y house price of unit area'],\n",
            "      dtype='object')\n"
          ]
        }
      ]
    },
    {
      "cell_type": "code",
      "source": [
        "#pre-processing for the categorical data\n",
        "\n",
        "cat_cols = real_state_data.select_dtypes(include='object').columns\n",
        "print(cat_cols)\n",
        "print(real_state_data.dtypes)\n",
        "\n",
        "#since we don't have the categorical data we don't have to apply hot-encoding, label encoding and target encoding ."
      ],
      "metadata": {
        "colab": {
          "base_uri": "https://localhost:8080/"
        },
        "id": "BAzU6u-0vYTU",
        "outputId": "3ecc4711-bb57-4771-e59e-6e42e5a09f42"
      },
      "execution_count": 11,
      "outputs": [
        {
          "output_type": "stream",
          "name": "stdout",
          "text": [
            "Index([], dtype='object')\n",
            "No                                        float64\n",
            "X1 transaction date                       float64\n",
            "X2 house age                              float64\n",
            "X3 distance to the nearest MRT station    float64\n",
            "X4 number of convenience stores           float64\n",
            "X5 latitude                               float64\n",
            "X6 longitude                              float64\n",
            "Y house price of unit area                float64\n",
            "dtype: object\n"
          ]
        }
      ]
    },
    {
      "cell_type": "code",
      "source": [
        "#cheking the variance and correlation in the columns for effective machine learning model\n",
        "real_state_data = real_state_data.drop(['No','X1 transaction date'],axis=1)\n",
        "variances = real_state_data.var()\n",
        "high_variances = variances[variances>0.5].index\n",
        "real_state_data = real_state_data[high_variances]\n",
        "\n",
        "\n",
        "corr = real_state_data.corr()\n",
        "target_corr = corr['Y house price of unit area']\n",
        "corr_threshold = 0.7\n",
        "columns = target_corr[target_corr.abs()>corr_threshold].index\n",
        "\n"
      ],
      "metadata": {
        "id": "d5vgx8knxoX2"
      },
      "execution_count": 12,
      "outputs": []
    },
    {
      "cell_type": "code",
      "source": [
        "#splitting the dataset into trainin testing and validation data\n",
        "\n",
        "from sklearn.model_selection import train_test_split\n",
        "train_val_set,test_val = train_test_split(real_state_data,test_size=0.2,random_state=42)\n",
        "train_set,val_test = train_test_split(train_val_set,test_size=0.2,random_state=42)\n",
        "\n",
        "X_train = train_set.drop('Y house price of unit area',axis =1)\n",
        "X_val = val_test.drop('Y house price of unit area',axis =1)\n",
        "X_test = test_val.drop('Y house price of unit area',axis =1)\n",
        "\n",
        "y_train = train_set['Y house price of unit area']\n",
        "y_val = val_test['Y house price of unit area']\n",
        "y_test = test_val['Y house price of unit area']\n"
      ],
      "metadata": {
        "id": "Rbno3TsUP8D3"
      },
      "execution_count": 13,
      "outputs": []
    },
    {
      "cell_type": "code",
      "source": [
        "pip install xgBoost"
      ],
      "metadata": {
        "colab": {
          "base_uri": "https://localhost:8080/"
        },
        "id": "34kbE9oxSk2-",
        "outputId": "51eb7607-3f2d-449c-ce6d-1432026c319d"
      },
      "execution_count": 14,
      "outputs": [
        {
          "output_type": "stream",
          "name": "stdout",
          "text": [
            "Requirement already satisfied: xgBoost in /usr/local/lib/python3.10/dist-packages (2.0.3)\n",
            "Requirement already satisfied: numpy in /usr/local/lib/python3.10/dist-packages (from xgBoost) (1.23.5)\n",
            "Requirement already satisfied: scipy in /usr/local/lib/python3.10/dist-packages (from xgBoost) (1.11.4)\n"
          ]
        }
      ]
    },
    {
      "cell_type": "code",
      "source": [
        "\n",
        "#training our data using the xgboost similar to the random forest\n",
        "# import xgboost\n",
        "# from sklearn.model_selection import cross_val_score\n",
        "\n",
        "# reg = xgboost.XGBRegressor(random_state = 42,\n",
        "#  early_stopping_rounds = 15,\n",
        "#  learning_rate=0.1,\n",
        "#  max_depth = 9,\n",
        "#  n_estimators=100000,\n",
        "#  min_child_weight=1,\n",
        "#  gamma=0,\n",
        "#  subsample=0.8,\n",
        "#  colsample_bytree=0.8,\n",
        "#  n_jobs=-1,\n",
        "#  verbosity=0)\n",
        "\n",
        "# reg.fit(X_train, y_train, eval_set = [(X_val, y_val)])\n"
      ],
      "metadata": {
        "id": "Lsas6zM6Stjf"
      },
      "execution_count": 15,
      "outputs": []
    },
    {
      "cell_type": "code",
      "source": [
        "#using the GridSearchCV to test with different parameters to find the best model within a range\n",
        "\n",
        "import xgboost\n",
        "from sklearn.model_selection import GridSearchCV\n",
        "\n",
        "xgb1 = xgboost.XGBRegressor(random_state=42, early_stopping_rounds=15, n_jobs=-1, verbosity=0)\n",
        "\n",
        "parameters = {\n",
        "    'nthread': [4],\n",
        "    'objective': ['reg:linear'],\n",
        "    'learning_rate': [0.03, 0.05, 0.07],\n",
        "    'max_depth': [5, 6, 7],\n",
        "    'min_child_weight': [4],\n",
        "    'silent': [1],\n",
        "    'subsample': [0.7],\n",
        "    'colsample_bytree': [0.7],\n",
        "    'n_estimators': [500]\n",
        "}\n",
        "\n",
        "xgb_grid = GridSearchCV(xgb1, parameters, cv=2, n_jobs=5, verbose=True)\n",
        "\n",
        "xgb_grid.fit(X_train, y_train, eval_set=[(X_val, y_val)])\n",
        "\n",
        "print(\"Best Parameters:\", xgb_grid.best_params_)\n",
        "print(\"Best Score:\", xgb_grid.best_score_)\n",
        "\n",
        "best_model = xgb_grid.best_estimator_\n"
      ],
      "metadata": {
        "colab": {
          "base_uri": "https://localhost:8080/"
        },
        "id": "ISLY7htsgcYs",
        "outputId": "051d6c3f-c659-4913-d4d4-8ae9fe6dcfa6"
      },
      "execution_count": 16,
      "outputs": [
        {
          "output_type": "stream",
          "name": "stdout",
          "text": [
            "Fitting 2 folds for each of 9 candidates, totalling 18 fits\n",
            "[0]\tvalidation_0-rmse:0.94001\n",
            "[1]\tvalidation_0-rmse:0.91967\n",
            "[2]\tvalidation_0-rmse:0.90106\n",
            "[3]\tvalidation_0-rmse:0.88178\n",
            "[4]\tvalidation_0-rmse:0.86427\n",
            "[5]\tvalidation_0-rmse:0.84743\n",
            "[6]\tvalidation_0-rmse:0.83208\n",
            "[7]\tvalidation_0-rmse:0.81483\n",
            "[8]\tvalidation_0-rmse:0.79983\n",
            "[9]\tvalidation_0-rmse:0.78441\n",
            "[10]\tvalidation_0-rmse:0.77119\n",
            "[11]\tvalidation_0-rmse:0.75744\n",
            "[12]\tvalidation_0-rmse:0.74547\n",
            "[13]\tvalidation_0-rmse:0.73336\n",
            "[14]\tvalidation_0-rmse:0.72069\n",
            "[15]\tvalidation_0-rmse:0.70948\n",
            "[16]\tvalidation_0-rmse:0.69796\n",
            "[17]\tvalidation_0-rmse:0.68669\n",
            "[18]\tvalidation_0-rmse:0.67620\n",
            "[19]\tvalidation_0-rmse:0.66531\n",
            "[20]\tvalidation_0-rmse:0.65543\n",
            "[21]\tvalidation_0-rmse:0.64580\n",
            "[22]\tvalidation_0-rmse:0.63773\n",
            "[23]\tvalidation_0-rmse:0.63035\n",
            "[24]\tvalidation_0-rmse:0.62341\n",
            "[25]\tvalidation_0-rmse:0.61644\n",
            "[26]\tvalidation_0-rmse:0.60878\n",
            "[27]\tvalidation_0-rmse:0.60056\n",
            "[28]\tvalidation_0-rmse:0.59348\n",
            "[29]\tvalidation_0-rmse:0.58760\n",
            "[30]\tvalidation_0-rmse:0.58185\n",
            "[31]\tvalidation_0-rmse:0.57617\n",
            "[32]\tvalidation_0-rmse:0.57049\n",
            "[33]\tvalidation_0-rmse:0.56499\n",
            "[34]\tvalidation_0-rmse:0.56110\n",
            "[35]\tvalidation_0-rmse:0.55576\n",
            "[36]\tvalidation_0-rmse:0.55009\n",
            "[37]\tvalidation_0-rmse:0.54608\n",
            "[38]\tvalidation_0-rmse:0.54242\n",
            "[39]\tvalidation_0-rmse:0.53966\n",
            "[40]\tvalidation_0-rmse:0.53378\n",
            "[41]\tvalidation_0-rmse:0.52882\n",
            "[42]\tvalidation_0-rmse:0.52772\n",
            "[43]\tvalidation_0-rmse:0.52520\n",
            "[44]\tvalidation_0-rmse:0.52179\n",
            "[45]\tvalidation_0-rmse:0.52094\n",
            "[46]\tvalidation_0-rmse:0.51822\n",
            "[47]\tvalidation_0-rmse:0.51599\n",
            "[48]\tvalidation_0-rmse:0.51296\n",
            "[49]\tvalidation_0-rmse:0.51010\n",
            "[50]\tvalidation_0-rmse:0.50734\n",
            "[51]\tvalidation_0-rmse:0.50587\n",
            "[52]\tvalidation_0-rmse:0.50477\n",
            "[53]\tvalidation_0-rmse:0.50215\n",
            "[54]\tvalidation_0-rmse:0.50055\n",
            "[55]\tvalidation_0-rmse:0.49972\n",
            "[56]\tvalidation_0-rmse:0.49925\n",
            "[57]\tvalidation_0-rmse:0.49858\n",
            "[58]\tvalidation_0-rmse:0.49833\n",
            "[59]\tvalidation_0-rmse:0.49706\n",
            "[60]\tvalidation_0-rmse:0.49736\n",
            "[61]\tvalidation_0-rmse:0.49588\n",
            "[62]\tvalidation_0-rmse:0.49541\n",
            "[63]\tvalidation_0-rmse:0.49429\n",
            "[64]\tvalidation_0-rmse:0.49352\n",
            "[65]\tvalidation_0-rmse:0.49291\n",
            "[66]\tvalidation_0-rmse:0.49151\n",
            "[67]\tvalidation_0-rmse:0.49043\n",
            "[68]\tvalidation_0-rmse:0.48952\n",
            "[69]\tvalidation_0-rmse:0.49038\n",
            "[70]\tvalidation_0-rmse:0.49040\n",
            "[71]\tvalidation_0-rmse:0.49023\n",
            "[72]\tvalidation_0-rmse:0.48854\n",
            "[73]\tvalidation_0-rmse:0.48732\n",
            "[74]\tvalidation_0-rmse:0.48644\n",
            "[75]\tvalidation_0-rmse:0.48813\n",
            "[76]\tvalidation_0-rmse:0.48742\n",
            "[77]\tvalidation_0-rmse:0.48770\n",
            "[78]\tvalidation_0-rmse:0.48767\n",
            "[79]\tvalidation_0-rmse:0.48829\n",
            "[80]\tvalidation_0-rmse:0.48922\n",
            "[81]\tvalidation_0-rmse:0.48860\n",
            "[82]\tvalidation_0-rmse:0.48682\n",
            "[83]\tvalidation_0-rmse:0.48605\n",
            "[84]\tvalidation_0-rmse:0.48610\n",
            "[85]\tvalidation_0-rmse:0.48610\n",
            "[86]\tvalidation_0-rmse:0.48558\n",
            "[87]\tvalidation_0-rmse:0.48713\n",
            "[88]\tvalidation_0-rmse:0.48643\n",
            "[89]\tvalidation_0-rmse:0.48663\n",
            "[90]\tvalidation_0-rmse:0.48689\n",
            "[91]\tvalidation_0-rmse:0.48804\n",
            "[92]\tvalidation_0-rmse:0.48850\n",
            "[93]\tvalidation_0-rmse:0.48947\n",
            "[94]\tvalidation_0-rmse:0.48868\n",
            "[95]\tvalidation_0-rmse:0.48888\n",
            "[96]\tvalidation_0-rmse:0.48801\n",
            "[97]\tvalidation_0-rmse:0.48776\n",
            "[98]\tvalidation_0-rmse:0.48829\n",
            "[99]\tvalidation_0-rmse:0.48848\n",
            "[100]\tvalidation_0-rmse:0.48983\n",
            "Best Parameters: {'colsample_bytree': 0.7, 'learning_rate': 0.03, 'max_depth': 5, 'min_child_weight': 4, 'n_estimators': 500, 'nthread': 4, 'objective': 'reg:linear', 'silent': 1, 'subsample': 0.7}\n",
            "Best Score: 0.6339871761559852\n"
          ]
        }
      ]
    },
    {
      "cell_type": "code",
      "source": [
        "from sklearn.metrics import mean_squared_error, mean_absolute_error\n",
        "y_pred = best_model.predict(X_test)\n",
        "\n",
        "print(f\"MAE : {mean_absolute_error(y_test, y_pred)}\")\n",
        "print(f\"MSE : {mean_squared_error(y_test, y_pred)}\")"
      ],
      "metadata": {
        "colab": {
          "base_uri": "https://localhost:8080/"
        },
        "id": "CQWgN9nUTFyh",
        "outputId": "3b31816a-e956-4aae-8dde-4ac4a9682e9d"
      },
      "execution_count": 17,
      "outputs": [
        {
          "output_type": "stream",
          "name": "stdout",
          "text": [
            "MAE : 0.3224049899394488\n",
            "MSE : 0.20931568856690871\n"
          ]
        }
      ]
    },
    {
      "cell_type": "code",
      "source": [
        "#using other regression model to compare our model and also using the GridSearchCV to test the model using different parameters to see the bese MSE\n",
        "\n",
        "from sklearn.ensemble import RandomForestRegressor, AdaBoostRegressor\n",
        "from sklearn.svm import SVR\n",
        "import lightgbm as lgb\n",
        "from sklearn.metrics import mean_squared_error"
      ],
      "metadata": {
        "id": "IfutctyyiAX-"
      },
      "execution_count": 18,
      "outputs": []
    },
    {
      "cell_type": "code",
      "source": [
        "from sklearn.model_selection import GridSearchCV\n",
        "\n",
        "# AdaBoost\n",
        "adaboost_model = AdaBoostRegressor(random_state=42)\n",
        "adaboost_params = {\n",
        "    'n_estimators': [50, 100, 150],\n",
        "    'learning_rate': [0.01, 0.1, 1],\n",
        "    'loss': ['linear', 'square', 'exponential'],\n",
        "}\n",
        "\n",
        "adaboost_grid = GridSearchCV(adaboost_model, adaboost_params, cv=5, scoring='neg_mean_squared_error')\n",
        "adaboost_grid.fit(X_train, y_train)\n",
        "adaboost_best_model = adaboost_grid.best_estimator_\n",
        "adaboost_predictions = adaboost_best_model.predict(X_val)\n",
        "adaboost_score = mean_squared_error(y_val, adaboost_predictions)\n",
        "print(\"AdaBoost  MSE:\", adaboost_score)\n"
      ],
      "metadata": {
        "colab": {
          "base_uri": "https://localhost:8080/"
        },
        "id": "F-4eTkB0kiDH",
        "outputId": "a90938e9-b40a-4200-8dd2-caa8af93d0a6"
      },
      "execution_count": 19,
      "outputs": [
        {
          "output_type": "stream",
          "name": "stdout",
          "text": [
            "AdaBoost  MSE: 0.27790381439884965\n"
          ]
        }
      ]
    },
    {
      "cell_type": "code",
      "source": [
        "# SVM\n",
        "svm_model = SVR()\n",
        "\n",
        "svm_params = {\n",
        "    'C': [0.1, 1, 10],\n",
        "    'kernel': ['linear', 'rbf', 'poly'],\n",
        "    'degree': [2, 3, 4],\n",
        "    'gamma': ['scale', 'auto'],\n",
        "}\n",
        "\n",
        "#svm\n",
        "svm_grid = GridSearchCV(svm_model, svm_params, cv=5, scoring='neg_mean_squared_error')\n",
        "svm_grid.fit(X_train, y_train)\n",
        "svm_best_model = svm_grid.best_estimator_\n",
        "svm_predictions = svm_best_model.predict(X_val)\n",
        "svm_score = mean_squared_error(y_val, svm_predictions)\n",
        "print(\"SVM MSE:\", svm_score)"
      ],
      "metadata": {
        "colab": {
          "base_uri": "https://localhost:8080/"
        },
        "id": "YRPBLFljrTu1",
        "outputId": "c962f245-cc65-4c42-b6b6-bda205c75606"
      },
      "execution_count": 20,
      "outputs": [
        {
          "output_type": "stream",
          "name": "stdout",
          "text": [
            "SVM MSE: 0.23831147087909196\n"
          ]
        }
      ]
    },
    {
      "cell_type": "code",
      "source": [
        "# Random Forest\n",
        "rf_model = RandomForestRegressor(random_state=42)\n",
        "rf_params = {\n",
        "    'n_estimators': [300, 400, 500],\n",
        "    'max_depth': [None, 10, 20],\n",
        "    'min_samples_split': [2, 5, 10],\n",
        "    'min_samples_leaf': [1, 2, 4],\n",
        "    'max_features': ['auto', 'sqrt', 'log2'],\n",
        "}\n",
        "rf_grid = GridSearchCV(rf_model, rf_params, cv=5, scoring='neg_mean_squared_error')\n",
        "rf_grid.fit(X_train, y_train)\n",
        "rf_best_model = rf_grid.best_estimator_\n",
        "rf_predictions = rf_best_model.predict(X_val)\n",
        "rf_score = mean_squared_error(y_val, rf_predictions)\n",
        "print(\"Random Forest  MSE:\", rf_score)"
      ],
      "metadata": {
        "id": "prn4j-AksUPR"
      },
      "execution_count": null,
      "outputs": []
    },
    {
      "cell_type": "code",
      "source": [
        "# LightGBM\n",
        "#comparing all the model and we found out that XGBhas the less mean square error so it's the perfect model for us\n",
        "lgb_model = lgb.LGBMRegressor(random_state=42)\n",
        "lgb_params = {\n",
        "    'learning_rate': [0.01, 0.05, 0.1],\n",
        "    'n_estimators': [300, 400, 500],\n",
        "    'max_depth': [5, 10, 15],\n",
        "    'num_leaves': [31, 63, 127],\n",
        "    'min_child_samples': [20, 40, 60],\n",
        "    'subsample': [0.7, 0.8, 0.9],\n",
        "    'colsample_bytree': [0.7, 0.8, 0.9],\n",
        "    'reg_alpha': [0, 0.1, 0.5],\n",
        "    'reg_lambda': [0, 0.1, 0.5],\n",
        "}\n",
        "lgb_grid = GridSearchCV(lgb_model, lgb_params, cv=5, scoring='neg_mean_squared_error')\n",
        "lgb_grid.fit(X_train, y_train)\n",
        "lgb_best_model = lgb_grid.best_estimator_\n",
        "lgb_predictions = lgb_best_model.predict(X_val)\n",
        "lgb_score = mean_squared_error(y_val, lgb_predictions)\n",
        "print(\"LightGBM MSE:\", lgb_score)"
      ],
      "metadata": {
        "id": "H_vsr5dEsJ_K"
      },
      "execution_count": null,
      "outputs": []
    }
  ]
}