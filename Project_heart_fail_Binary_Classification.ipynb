{
  "nbformat": 4,
  "nbformat_minor": 0,
  "metadata": {
    "colab": {
      "provenance": [],
      "authorship_tag": "ABX9TyOwex8pcJKNIrILSMcvewcE",
      "include_colab_link": true
    },
    "kernelspec": {
      "name": "python3",
      "display_name": "Python 3"
    },
    "language_info": {
      "name": "python"
    }
  },
  "cells": [
    {
      "cell_type": "markdown",
      "metadata": {
        "id": "view-in-github",
        "colab_type": "text"
      },
      "source": [
        "<a href=\"https://colab.research.google.com/github/bibekpaudyal1/regressionDataScienceHousePredctionCompleteModel/blob/classification_heart_fail_rate/Project_heart_fail_Binary_Classification.ipynb\" target=\"_parent\"><img src=\"https://colab.research.google.com/assets/colab-badge.svg\" alt=\"Open In Colab\"/></a>"
      ]
    },
    {
      "cell_type": "code",
      "execution_count": null,
      "metadata": {
        "colab": {
          "base_uri": "https://localhost:8080/"
        },
        "id": "HnEkBhq1qbX3",
        "outputId": "21940de6-2f36-4b28-b8b5-2c8b3b5a5e90"
      },
      "outputs": [
        {
          "output_type": "stream",
          "name": "stdout",
          "text": [
            "Requirement already satisfied: ucimlrepo in /usr/local/lib/python3.10/dist-packages (0.0.3)\n"
          ]
        }
      ],
      "source": [
        "#Data Science project to identify the Heart failure rate in the patients based on the data\n",
        "\n",
        "pip install ucimlrepo"
      ]
    },
    {
      "cell_type": "markdown",
      "source": [],
      "metadata": {
        "id": "kT2d4spPsI3s"
      }
    },
    {
      "cell_type": "code",
      "source": [
        "from ucimlrepo import fetch_ucirepo\n",
        "\n",
        "heart_failure_clinical_records = fetch_ucirepo(id=519)\n",
        "\n",
        "\n",
        "# importing the datasets for with the features and targets\n",
        "X = heart_failure_clinical_records.data.features\n",
        "y = heart_failure_clinical_records.data.targets\n",
        "\n",
        "print(X.columns)\n",
        "#undestanding the instances of the data, features and target\n",
        "print(X.head())\n",
        "print(y.head())\n",
        "print(X.columns)\n",
        "print(\"--------------\")\n",
        "print(y)"
      ],
      "metadata": {
        "colab": {
          "base_uri": "https://localhost:8080/"
        },
        "id": "b_rmy_ReqoJs",
        "outputId": "e8b4010a-141a-40a9-f332-761b34d08018"
      },
      "execution_count": null,
      "outputs": [
        {
          "output_type": "stream",
          "name": "stdout",
          "text": [
            "Index(['age', 'anaemia', 'creatinine_phosphokinase', 'diabetes',\n",
            "       'ejection_fraction', 'high_blood_pressure', 'platelets',\n",
            "       'serum_creatinine', 'serum_sodium', 'sex', 'smoking', 'time'],\n",
            "      dtype='object')\n",
            "    age  anaemia  creatinine_phosphokinase  diabetes  ejection_fraction  \\\n",
            "0  75.0        0                       582         0                 20   \n",
            "1  55.0        0                      7861         0                 38   \n",
            "2  65.0        0                       146         0                 20   \n",
            "3  50.0        1                       111         0                 20   \n",
            "4  65.0        1                       160         1                 20   \n",
            "\n",
            "   high_blood_pressure  platelets  serum_creatinine  serum_sodium  sex  \\\n",
            "0                    1  265000.00               1.9           130    1   \n",
            "1                    0  263358.03               1.1           136    1   \n",
            "2                    0  162000.00               1.3           129    1   \n",
            "3                    0  210000.00               1.9           137    1   \n",
            "4                    0  327000.00               2.7           116    0   \n",
            "\n",
            "   smoking  time  \n",
            "0        0     4  \n",
            "1        0     6  \n",
            "2        1     7  \n",
            "3        0     7  \n",
            "4        0     8  \n",
            "   death_event\n",
            "0            1\n",
            "1            1\n",
            "2            1\n",
            "3            1\n",
            "4            1\n",
            "Index(['age', 'anaemia', 'creatinine_phosphokinase', 'diabetes',\n",
            "       'ejection_fraction', 'high_blood_pressure', 'platelets',\n",
            "       'serum_creatinine', 'serum_sodium', 'sex', 'smoking', 'time'],\n",
            "      dtype='object')\n",
            "--------------\n",
            "     death_event\n",
            "0              1\n",
            "1              1\n",
            "2              1\n",
            "3              1\n",
            "4              1\n",
            "..           ...\n",
            "294            0\n",
            "295            0\n",
            "296            0\n",
            "297            0\n",
            "298            0\n",
            "\n",
            "[299 rows x 1 columns]\n"
          ]
        }
      ]
    },
    {
      "cell_type": "code",
      "source": [
        "#pre-processing the dataset\n",
        "for k in sorted(X.columns):\n",
        "  if X[k].isna().sum()>0:\n",
        "    print(k,X[k].isna().sum())\n",
        "  else:\n",
        "    print(\"There is no empty data's\")\n",
        "\n",
        "#we don't need to fill the empty data"
      ],
      "metadata": {
        "colab": {
          "base_uri": "https://localhost:8080/"
        },
        "id": "pkGJljp-q68P",
        "outputId": "6911d2fa-9c44-42a5-f54b-d4129cba8473"
      },
      "execution_count": null,
      "outputs": [
        {
          "output_type": "stream",
          "name": "stdout",
          "text": [
            "The data is clean\n",
            "The data is clean\n",
            "The data is clean\n",
            "The data is clean\n",
            "The data is clean\n",
            "The data is clean\n",
            "The data is clean\n",
            "The data is clean\n",
            "The data is clean\n",
            "The data is clean\n",
            "The data is clean\n",
            "The data is clean\n"
          ]
        }
      ]
    },
    {
      "cell_type": "code",
      "source": [
        "(X.nunique() == 1).sum()"
      ],
      "metadata": {
        "colab": {
          "base_uri": "https://localhost:8080/"
        },
        "id": "PScBOTkHtof8",
        "outputId": "8ddb738f-0f89-4891-e370-e494cf6cb4cd"
      },
      "execution_count": null,
      "outputs": [
        {
          "output_type": "execute_result",
          "data": {
            "text/plain": [
              "0"
            ]
          },
          "metadata": {},
          "execution_count": 15
        }
      ]
    },
    {
      "cell_type": "code",
      "source": [
        "from sklearn.preprocessing import StandardScaler\n",
        "scaler = StandardScaler()\n",
        "x = scaler.fit_transform(X)"
      ],
      "metadata": {
        "colab": {
          "base_uri": "https://localhost:8080/"
        },
        "id": "fsW1_zvOus1Y",
        "outputId": "444fc922-f5be-4f30-b251-ac8b6ef90138"
      },
      "execution_count": null,
      "outputs": [
        {
          "output_type": "stream",
          "name": "stdout",
          "text": [
            "[[ 1.4541607 ]\n",
            " [ 1.4541607 ]\n",
            " [ 1.4541607 ]\n",
            " [ 1.4541607 ]\n",
            " [ 1.4541607 ]\n",
            " [ 1.4541607 ]\n",
            " [ 1.4541607 ]\n",
            " [ 1.4541607 ]\n",
            " [ 1.4541607 ]\n",
            " [ 1.4541607 ]\n",
            " [ 1.4541607 ]\n",
            " [ 1.4541607 ]\n",
            " [ 1.4541607 ]\n",
            " [ 1.4541607 ]\n",
            " [-0.68768191]\n",
            " [ 1.4541607 ]\n",
            " [ 1.4541607 ]\n",
            " [ 1.4541607 ]\n",
            " [ 1.4541607 ]\n",
            " [ 1.4541607 ]\n",
            " [-0.68768191]\n",
            " [ 1.4541607 ]\n",
            " [ 1.4541607 ]\n",
            " [-0.68768191]\n",
            " [ 1.4541607 ]\n",
            " [ 1.4541607 ]\n",
            " [ 1.4541607 ]\n",
            " [ 1.4541607 ]\n",
            " [ 1.4541607 ]\n",
            " [ 1.4541607 ]\n",
            " [ 1.4541607 ]\n",
            " [ 1.4541607 ]\n",
            " [ 1.4541607 ]\n",
            " [-0.68768191]\n",
            " [ 1.4541607 ]\n",
            " [ 1.4541607 ]\n",
            " [ 1.4541607 ]\n",
            " [ 1.4541607 ]\n",
            " [-0.68768191]\n",
            " [ 1.4541607 ]\n",
            " [ 1.4541607 ]\n",
            " [ 1.4541607 ]\n",
            " [ 1.4541607 ]\n",
            " [-0.68768191]\n",
            " [ 1.4541607 ]\n",
            " [ 1.4541607 ]\n",
            " [ 1.4541607 ]\n",
            " [ 1.4541607 ]\n",
            " [ 1.4541607 ]\n",
            " [ 1.4541607 ]\n",
            " [ 1.4541607 ]\n",
            " [ 1.4541607 ]\n",
            " [ 1.4541607 ]\n",
            " [ 1.4541607 ]\n",
            " [ 1.4541607 ]\n",
            " [ 1.4541607 ]\n",
            " [-0.68768191]\n",
            " [-0.68768191]\n",
            " [ 1.4541607 ]\n",
            " [ 1.4541607 ]\n",
            " [ 1.4541607 ]\n",
            " [ 1.4541607 ]\n",
            " [-0.68768191]\n",
            " [ 1.4541607 ]\n",
            " [-0.68768191]\n",
            " [ 1.4541607 ]\n",
            " [ 1.4541607 ]\n",
            " [ 1.4541607 ]\n",
            " [ 1.4541607 ]\n",
            " [ 1.4541607 ]\n",
            " [-0.68768191]\n",
            " [-0.68768191]\n",
            " [ 1.4541607 ]\n",
            " [-0.68768191]\n",
            " [ 1.4541607 ]\n",
            " [ 1.4541607 ]\n",
            " [-0.68768191]\n",
            " [-0.68768191]\n",
            " [-0.68768191]\n",
            " [-0.68768191]\n",
            " [-0.68768191]\n",
            " [-0.68768191]\n",
            " [ 1.4541607 ]\n",
            " [-0.68768191]\n",
            " [ 1.4541607 ]\n",
            " [-0.68768191]\n",
            " [-0.68768191]\n",
            " [-0.68768191]\n",
            " [-0.68768191]\n",
            " [-0.68768191]\n",
            " [-0.68768191]\n",
            " [-0.68768191]\n",
            " [-0.68768191]\n",
            " [ 1.4541607 ]\n",
            " [-0.68768191]\n",
            " [-0.68768191]\n",
            " [-0.68768191]\n",
            " [-0.68768191]\n",
            " [-0.68768191]\n",
            " [-0.68768191]\n",
            " [-0.68768191]\n",
            " [-0.68768191]\n",
            " [-0.68768191]\n",
            " [-0.68768191]\n",
            " [-0.68768191]\n",
            " [ 1.4541607 ]\n",
            " [-0.68768191]\n",
            " [-0.68768191]\n",
            " [-0.68768191]\n",
            " [-0.68768191]\n",
            " [ 1.4541607 ]\n",
            " [-0.68768191]\n",
            " [-0.68768191]\n",
            " [ 1.4541607 ]\n",
            " [-0.68768191]\n",
            " [-0.68768191]\n",
            " [-0.68768191]\n",
            " [-0.68768191]\n",
            " [-0.68768191]\n",
            " [ 1.4541607 ]\n",
            " [-0.68768191]\n",
            " [-0.68768191]\n",
            " [-0.68768191]\n",
            " [-0.68768191]\n",
            " [ 1.4541607 ]\n",
            " [-0.68768191]\n",
            " [ 1.4541607 ]\n",
            " [-0.68768191]\n",
            " [-0.68768191]\n",
            " [-0.68768191]\n",
            " [-0.68768191]\n",
            " [-0.68768191]\n",
            " [-0.68768191]\n",
            " [-0.68768191]\n",
            " [-0.68768191]\n",
            " [-0.68768191]\n",
            " [-0.68768191]\n",
            " [-0.68768191]\n",
            " [-0.68768191]\n",
            " [-0.68768191]\n",
            " [ 1.4541607 ]\n",
            " [-0.68768191]\n",
            " [-0.68768191]\n",
            " [-0.68768191]\n",
            " [ 1.4541607 ]\n",
            " [-0.68768191]\n",
            " [-0.68768191]\n",
            " [-0.68768191]\n",
            " [ 1.4541607 ]\n",
            " [-0.68768191]\n",
            " [ 1.4541607 ]\n",
            " [-0.68768191]\n",
            " [-0.68768191]\n",
            " [-0.68768191]\n",
            " [-0.68768191]\n",
            " [-0.68768191]\n",
            " [-0.68768191]\n",
            " [-0.68768191]\n",
            " [-0.68768191]\n",
            " [-0.68768191]\n",
            " [-0.68768191]\n",
            " [-0.68768191]\n",
            " [-0.68768191]\n",
            " [ 1.4541607 ]\n",
            " [ 1.4541607 ]\n",
            " [ 1.4541607 ]\n",
            " [-0.68768191]\n",
            " [ 1.4541607 ]\n",
            " [-0.68768191]\n",
            " [-0.68768191]\n",
            " [-0.68768191]\n",
            " [-0.68768191]\n",
            " [-0.68768191]\n",
            " [-0.68768191]\n",
            " [-0.68768191]\n",
            " [-0.68768191]\n",
            " [-0.68768191]\n",
            " [-0.68768191]\n",
            " [-0.68768191]\n",
            " [-0.68768191]\n",
            " [-0.68768191]\n",
            " [ 1.4541607 ]\n",
            " [ 1.4541607 ]\n",
            " [ 1.4541607 ]\n",
            " [ 1.4541607 ]\n",
            " [ 1.4541607 ]\n",
            " [ 1.4541607 ]\n",
            " [ 1.4541607 ]\n",
            " [-0.68768191]\n",
            " [-0.68768191]\n",
            " [-0.68768191]\n",
            " [-0.68768191]\n",
            " [-0.68768191]\n",
            " [-0.68768191]\n",
            " [ 1.4541607 ]\n",
            " [ 1.4541607 ]\n",
            " [-0.68768191]\n",
            " [-0.68768191]\n",
            " [-0.68768191]\n",
            " [-0.68768191]\n",
            " [-0.68768191]\n",
            " [-0.68768191]\n",
            " [-0.68768191]\n",
            " [-0.68768191]\n",
            " [-0.68768191]\n",
            " [-0.68768191]\n",
            " [-0.68768191]\n",
            " [-0.68768191]\n",
            " [-0.68768191]\n",
            " [-0.68768191]\n",
            " [-0.68768191]\n",
            " [-0.68768191]\n",
            " [-0.68768191]\n",
            " [ 1.4541607 ]\n",
            " [-0.68768191]\n",
            " [-0.68768191]\n",
            " [-0.68768191]\n",
            " [ 1.4541607 ]\n",
            " [-0.68768191]\n",
            " [-0.68768191]\n",
            " [ 1.4541607 ]\n",
            " [-0.68768191]\n",
            " [-0.68768191]\n",
            " [-0.68768191]\n",
            " [-0.68768191]\n",
            " [-0.68768191]\n",
            " [-0.68768191]\n",
            " [-0.68768191]\n",
            " [-0.68768191]\n",
            " [-0.68768191]\n",
            " [ 1.4541607 ]\n",
            " [-0.68768191]\n",
            " [-0.68768191]\n",
            " [-0.68768191]\n",
            " [-0.68768191]\n",
            " [-0.68768191]\n",
            " [-0.68768191]\n",
            " [-0.68768191]\n",
            " [-0.68768191]\n",
            " [-0.68768191]\n",
            " [-0.68768191]\n",
            " [-0.68768191]\n",
            " [-0.68768191]\n",
            " [-0.68768191]\n",
            " [-0.68768191]\n",
            " [-0.68768191]\n",
            " [ 1.4541607 ]\n",
            " [-0.68768191]\n",
            " [-0.68768191]\n",
            " [-0.68768191]\n",
            " [-0.68768191]\n",
            " [-0.68768191]\n",
            " [-0.68768191]\n",
            " [-0.68768191]\n",
            " [-0.68768191]\n",
            " [-0.68768191]\n",
            " [-0.68768191]\n",
            " [-0.68768191]\n",
            " [-0.68768191]\n",
            " [-0.68768191]\n",
            " [-0.68768191]\n",
            " [-0.68768191]\n",
            " [ 1.4541607 ]\n",
            " [-0.68768191]\n",
            " [-0.68768191]\n",
            " [-0.68768191]\n",
            " [ 1.4541607 ]\n",
            " [-0.68768191]\n",
            " [-0.68768191]\n",
            " [-0.68768191]\n",
            " [-0.68768191]\n",
            " [-0.68768191]\n",
            " [-0.68768191]\n",
            " [-0.68768191]\n",
            " [-0.68768191]\n",
            " [-0.68768191]\n",
            " [-0.68768191]\n",
            " [-0.68768191]\n",
            " [-0.68768191]\n",
            " [-0.68768191]\n",
            " [-0.68768191]\n",
            " [-0.68768191]\n",
            " [-0.68768191]\n",
            " [-0.68768191]\n",
            " [-0.68768191]\n",
            " [-0.68768191]\n",
            " [-0.68768191]\n",
            " [-0.68768191]\n",
            " [-0.68768191]\n",
            " [-0.68768191]\n",
            " [-0.68768191]\n",
            " [-0.68768191]\n",
            " [-0.68768191]\n",
            " [-0.68768191]\n",
            " [-0.68768191]\n",
            " [-0.68768191]\n",
            " [-0.68768191]\n",
            " [-0.68768191]\n",
            " [-0.68768191]]\n"
          ]
        }
      ]
    },
    {
      "cell_type": "code",
      "source": [
        "import pandas as pd\n",
        "from sklearn.preprocessing import StandardScaler\n",
        "\n",
        "# Define categorical columns\n",
        "cat_cols = ['anaemia', 'diabetes', 'high_blood_pressure', 'sex', 'smoking']\n",
        "\n",
        "# Define numerical columns\n",
        "num_cols = ['age', 'creatinine_phosphokinase', 'ejection_fraction', 'platelets', 'serum_creatinine', 'serum_sodium', 'time']\n",
        "\n",
        "X_copy = X.copy()\n",
        "\n",
        "scaler = StandardScaler()\n",
        "X_copy.loc[:, num_cols] = scaler.fit_transform(X_copy[num_cols])\n",
        "\n",
        "X_encoded = pd.get_dummies(X_copy, columns=cat_cols, drop_first=True)\n"
      ],
      "metadata": {
        "id": "TxAp1qI0wzpG"
      },
      "execution_count": null,
      "outputs": []
    },
    {
      "cell_type": "code",
      "source": [
        "pip install xgboost"
      ],
      "metadata": {
        "colab": {
          "base_uri": "https://localhost:8080/"
        },
        "id": "9fjSlA898HgK",
        "outputId": "4a08f3cd-a5b6-42a7-be8f-f525dfdf79f4"
      },
      "execution_count": null,
      "outputs": [
        {
          "output_type": "stream",
          "name": "stdout",
          "text": [
            "Requirement already satisfied: xgboost in /usr/local/lib/python3.10/dist-packages (2.0.3)\n",
            "Requirement already satisfied: numpy in /usr/local/lib/python3.10/dist-packages (from xgboost) (1.23.5)\n",
            "Requirement already satisfied: scipy in /usr/local/lib/python3.10/dist-packages (from xgboost) (1.11.4)\n"
          ]
        }
      ]
    },
    {
      "cell_type": "code",
      "source": [
        "from sklearn.model_selection import train_test_split\n",
        "from sklearn.metrics import mean_squared_error, mean_absolute_error,accuracy_score, precision_score, recall_score, f1_score\n",
        "import xgboost\n",
        "\n",
        "# X_train_val, X_test, y_train_val, y_test = train_test_split(X_encoded, y, test_size=0.2, random_state=42)\n",
        "# X_train, X_val, y_train, y_val = train_test_split(X_train_val, y_train_val, test_size=0.2, random_state=42)\n",
        "\n",
        "\n",
        "\n",
        "\n",
        "\n",
        "X_train, X_test, y_train, y_test = train_test_split(X_encoded, y, test_size=0.2)\n",
        "\n",
        "X_train, X_test, y_train, y_test = train_test_split(X_train, y_train, test_size=0.2)\n",
        "# create model instance\n",
        "\n",
        "bst =  xgboost.XGBClassifier(n_estimators=2, max_depth=1, learning_rate=0.2, objective='binary:logistic')\n",
        "# fit model\n",
        "bst.fit(X_train, y_train)\n",
        "# make predictions\n",
        "y_pred = bst.predict(X_test)\n",
        "\n",
        "\n",
        "\n",
        "# XGBoost classfier\n",
        "# reg = xgboost.XGBClassifier(\n",
        "#     random_state=42,\n",
        "#     early_stopping_rounds=15,\n",
        "#     learning_rate=0.1,\n",
        "#     max_depth=7,\n",
        "#     n_estimators=100000,\n",
        "#     min_child_weight=1,\n",
        "#     gamma=0,\n",
        "#     subsample=0.8,\n",
        "#     colsample_bytree=0.8,\n",
        "#     n_jobs=-1,\n",
        "#     verbosity=0\n",
        "# )\n",
        "\n",
        "# # Train the model\n",
        "# reg.fit(\n",
        "#     X_train, y_train,\n",
        "#     eval_set=[(X_val, y_val)],\n",
        "#     verbose=True\n",
        "# )\n",
        "\n",
        "# y_pred = reg.predict(X_test)\n",
        "\n",
        "accuracy = accuracy_score(y_test, y_pred)\n",
        "f1 = f1_score(y_test, y_pred)\n",
        "\n",
        "print(f\"Accuracy: {accuracy}\")\n",
        "print(f\"F1 Score: {f1}\")\n",
        "\n"
      ],
      "metadata": {
        "colab": {
          "base_uri": "https://localhost:8080/"
        },
        "id": "ulV7Pntl1bzN",
        "outputId": "22567bcf-6630-4c5f-b56f-2f64b52ecbd6"
      },
      "execution_count": null,
      "outputs": [
        {
          "output_type": "stream",
          "name": "stdout",
          "text": [
            "Accuracy: 0.8958333333333334\n",
            "F1 Score: 0.8571428571428572\n"
          ]
        }
      ]
    },
    {
      "cell_type": "code",
      "source": [
        "from sklearn.metrics import accuracy_score\n",
        "accuracy = accuracy_score(y_test, y_pred)\n",
        "\n",
        "print(f\"Accuracy: {accuracy}\")\n"
      ],
      "metadata": {
        "colab": {
          "base_uri": "https://localhost:8080/"
        },
        "id": "1HDR8WEf8yZa",
        "outputId": "e9546459-0d73-4577-b33d-dc0e63b58ade"
      },
      "execution_count": null,
      "outputs": [
        {
          "output_type": "stream",
          "name": "stdout",
          "text": [
            "Accuracy: 0.8958333333333334\n"
          ]
        }
      ]
    }
  ]
}